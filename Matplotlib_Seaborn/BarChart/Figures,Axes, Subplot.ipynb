{
 "cells": [
  {
   "cell_type": "code",
   "execution_count": 14,
   "metadata": {},
   "outputs": [],
   "source": [
    "import numpy as np\n",
    "import pandas as pd\n",
    "import matplotlib.pyplot as plt\n",
    "import seaborn as sb\n",
    "\n",
    "# plots to be rendered inside the notebook\n",
    "%matplotlib inline"
   ]
  },
  {
   "cell_type": "code",
   "execution_count": 15,
   "metadata": {},
   "outputs": [
    {
     "name": "stdout",
     "output_type": "stream",
     "text": [
      "(807, 14)\n"
     ]
    },
    {
     "data": {
      "text/html": [
       "<div>\n",
       "<style scoped>\n",
       "    .dataframe tbody tr th:only-of-type {\n",
       "        vertical-align: middle;\n",
       "    }\n",
       "\n",
       "    .dataframe tbody tr th {\n",
       "        vertical-align: top;\n",
       "    }\n",
       "\n",
       "    .dataframe thead th {\n",
       "        text-align: right;\n",
       "    }\n",
       "</style>\n",
       "<table border=\"1\" class=\"dataframe\">\n",
       "  <thead>\n",
       "    <tr style=\"text-align: right;\">\n",
       "      <th></th>\n",
       "      <th>id</th>\n",
       "      <th>species</th>\n",
       "      <th>generation_id</th>\n",
       "      <th>height</th>\n",
       "      <th>weight</th>\n",
       "      <th>base_experience</th>\n",
       "      <th>type_1</th>\n",
       "      <th>type_2</th>\n",
       "      <th>hp</th>\n",
       "      <th>attack</th>\n",
       "      <th>defense</th>\n",
       "      <th>speed</th>\n",
       "      <th>special-attack</th>\n",
       "      <th>special-defense</th>\n",
       "    </tr>\n",
       "  </thead>\n",
       "  <tbody>\n",
       "    <tr>\n",
       "      <th>0</th>\n",
       "      <td>1</td>\n",
       "      <td>bulbasaur</td>\n",
       "      <td>1</td>\n",
       "      <td>0.7</td>\n",
       "      <td>6.9</td>\n",
       "      <td>64</td>\n",
       "      <td>grass</td>\n",
       "      <td>poison</td>\n",
       "      <td>45</td>\n",
       "      <td>49</td>\n",
       "      <td>49</td>\n",
       "      <td>45</td>\n",
       "      <td>65</td>\n",
       "      <td>65</td>\n",
       "    </tr>\n",
       "    <tr>\n",
       "      <th>1</th>\n",
       "      <td>2</td>\n",
       "      <td>ivysaur</td>\n",
       "      <td>1</td>\n",
       "      <td>1.0</td>\n",
       "      <td>13.0</td>\n",
       "      <td>142</td>\n",
       "      <td>grass</td>\n",
       "      <td>poison</td>\n",
       "      <td>60</td>\n",
       "      <td>62</td>\n",
       "      <td>63</td>\n",
       "      <td>60</td>\n",
       "      <td>80</td>\n",
       "      <td>80</td>\n",
       "    </tr>\n",
       "    <tr>\n",
       "      <th>2</th>\n",
       "      <td>3</td>\n",
       "      <td>venusaur</td>\n",
       "      <td>1</td>\n",
       "      <td>2.0</td>\n",
       "      <td>100.0</td>\n",
       "      <td>236</td>\n",
       "      <td>grass</td>\n",
       "      <td>poison</td>\n",
       "      <td>80</td>\n",
       "      <td>82</td>\n",
       "      <td>83</td>\n",
       "      <td>80</td>\n",
       "      <td>100</td>\n",
       "      <td>100</td>\n",
       "    </tr>\n",
       "    <tr>\n",
       "      <th>3</th>\n",
       "      <td>4</td>\n",
       "      <td>charmander</td>\n",
       "      <td>1</td>\n",
       "      <td>0.6</td>\n",
       "      <td>8.5</td>\n",
       "      <td>62</td>\n",
       "      <td>fire</td>\n",
       "      <td>NaN</td>\n",
       "      <td>39</td>\n",
       "      <td>52</td>\n",
       "      <td>43</td>\n",
       "      <td>65</td>\n",
       "      <td>60</td>\n",
       "      <td>50</td>\n",
       "    </tr>\n",
       "    <tr>\n",
       "      <th>4</th>\n",
       "      <td>5</td>\n",
       "      <td>charmeleon</td>\n",
       "      <td>1</td>\n",
       "      <td>1.1</td>\n",
       "      <td>19.0</td>\n",
       "      <td>142</td>\n",
       "      <td>fire</td>\n",
       "      <td>NaN</td>\n",
       "      <td>58</td>\n",
       "      <td>64</td>\n",
       "      <td>58</td>\n",
       "      <td>80</td>\n",
       "      <td>80</td>\n",
       "      <td>65</td>\n",
       "    </tr>\n",
       "  </tbody>\n",
       "</table>\n",
       "</div>"
      ],
      "text/plain": [
       "   id     species  generation_id  height  weight  base_experience type_1  \\\n",
       "0   1   bulbasaur              1     0.7     6.9               64  grass   \n",
       "1   2     ivysaur              1     1.0    13.0              142  grass   \n",
       "2   3    venusaur              1     2.0   100.0              236  grass   \n",
       "3   4  charmander              1     0.6     8.5               62   fire   \n",
       "4   5  charmeleon              1     1.1    19.0              142   fire   \n",
       "\n",
       "   type_2  hp  attack  defense  speed  special-attack  special-defense  \n",
       "0  poison  45      49       49     45              65               65  \n",
       "1  poison  60      62       63     60              80               80  \n",
       "2  poison  80      82       83     80             100              100  \n",
       "3     NaN  39      52       43     65              60               50  \n",
       "4     NaN  58      64       58     80              80               65  "
      ]
     },
     "execution_count": 15,
     "metadata": {},
     "output_type": "execute_result"
    }
   ],
   "source": [
    "pokemon = pd.read_csv('./pokemon.csv')\n",
    "print(pokemon.shape)\n",
    "pokemon.head(5)"
   ]
  },
  {
   "cell_type": "code",
   "execution_count": 16,
   "metadata": {},
   "outputs": [
    {
     "data": {
      "image/png": "[encoded data removed]",
      "text/plain": [
       "<Figure size 432x288 with 1 Axes>"
      ]
     },
     "metadata": {
      "needs_background": "light"
     },
     "output_type": "display_data"
    }
   ],
   "source": [
    "plt.hist(data = pokemon, x= 'speed');"
   ]
  },
  {
   "cell_type": "code",
   "execution_count": 30,
   "metadata": {},
   "outputs": [
    {
     "data": {
      "text/plain": [
       "(array([ 31.,  93., 163., 159., 128., 115.,  81.,  26.,   6.,   5.]),\n",
       " array([  5. ,  20.5,  36. ,  51.5,  67. ,  82.5,  98. , 113.5, 129. ,\n",
       "        144.5, 160. ]),\n",
       " <a list of 10 Patch objects>)"
      ]
     },
     "execution_count": 30,
     "metadata": {},
     "output_type": "execute_result"
    },
    {
     "data": {
      "image/png": "[encoded data removed]",
      "text/plain": [
       "<Figure size 432x288 with 1 Axes>"
      ]
     },
     "metadata": {
      "needs_background": "light"
     },
     "output_type": "display_data"
    }
   ],
   "source": [
    "fig = plt.figure()\n",
    "ax = fig.add_axes([.125, .125, .775, .755])\n",
    "ax.hist(data = pokemon, x = 'speed')"
   ]
  },
  {
   "cell_type": "markdown",
   "metadata": {},
   "source": [
    "figure() creates a new Figure object, a reference to which has been stored in the variable fig. One of the Figure methods is .add_axes(), which creates a new Axes object in the Figure. The method requires one list as argument specifying the dimensions of the Axes: the first two elements of the list indicate the position of the lower-left hand corner of the Axes (in this case one quarter of the way from the lower-left corner of the Figure) and the last two elements specifying the Axes width and height, respectively. We refer to the Axes in the variable ax. Finally, we use the Axes method .hist() just like we did before with plt.hist()."
   ]
  },
  {
   "cell_type": "code",
   "execution_count": 31,
   "metadata": {},
   "outputs": [
    {
     "data": {
      "text/plain": [
       "<matplotlib.axes._axes.Axes at 0x1a24753978>"
      ]
     },
     "execution_count": 31,
     "metadata": {},
     "output_type": "execute_result"
    },
    {
     "data": {
      "image/png": "[encoded data removed]",
      "text/plain": [
       "<Figure size 432x288 with 1 Axes>"
      ]
     },
     "metadata": {
      "needs_background": "light"
     },
     "output_type": "display_data"
    }
   ],
   "source": [
    "fig = plt.figure()\n",
    "ax = fig.add_axes([.125, .125, .775, .755])\n",
    "base_color = sb.color_palette()[1]\n",
    "sb.countplot(data = pokemon, x = 'speed', color = base_color, ax = ax)"
   ]
  },
  {
   "cell_type": "code",
   "execution_count": 37,
   "metadata": {},
   "outputs": [
    {
     "name": "stdout",
     "output_type": "stream",
     "text": [
      "[  0   4   8  12  16  20  24  28  32  36  40  44  48  52  56  60  64  68\n",
      "  72  76  80  84  88  92  96 100 104 108 112 116 120 124 128 132 136 140\n",
      " 144 148 152 156 160]\n",
      "[  0.     0.25   0.5    0.75   1.     1.25   1.5    1.75   2.     2.25\n",
      "   2.5    2.75   3.     3.25   3.5    3.75   4.     4.25   4.5    4.75\n",
      "   5.     5.25   5.5    5.75   6.     6.25   6.5    6.75   7.     7.25\n",
      "   7.5    7.75   8.     8.25   8.5    8.75   9.     9.25   9.5    9.75\n",
      "  10.    10.25  10.5   10.75  11.    11.25  11.5   11.75  12.    12.25\n",
      "  12.5   12.75  13.    13.25  13.5   13.75  14.    14.25  14.5   14.75\n",
      "  15.    15.25  15.5   15.75  16.    16.25  16.5   16.75  17.    17.25\n",
      "  17.5   17.75  18.    18.25  18.5   18.75  19.    19.25  19.5   19.75\n",
      "  20.    20.25  20.5   20.75  21.    21.25  21.5   21.75  22.    22.25\n",
      "  22.5   22.75  23.    23.25  23.5   23.75  24.    24.25  24.5   24.75\n",
      "  25.    25.25  25.5   25.75  26.    26.25  26.5   26.75  27.    27.25\n",
      "  27.5   27.75  28.    28.25  28.5   28.75  29.    29.25  29.5   29.75\n",
      "  30.    30.25  30.5   30.75  31.    31.25  31.5   31.75  32.    32.25\n",
      "  32.5   32.75  33.    33.25  33.5   33.75  34.    34.25  34.5   34.75\n",
      "  35.    35.25  35.5   35.75  36.    36.25  36.5   36.75  37.    37.25\n",
      "  37.5   37.75  38.    38.25  38.5   38.75  39.    39.25  39.5   39.75\n",
      "  40.    40.25  40.5   40.75  41.    41.25  41.5   41.75  42.    42.25\n",
      "  42.5   42.75  43.    43.25  43.5   43.75  44.    44.25  44.5   44.75\n",
      "  45.    45.25  45.5   45.75  46.    46.25  46.5   46.75  47.    47.25\n",
      "  47.5   47.75  48.    48.25  48.5   48.75  49.    49.25  49.5   49.75\n",
      "  50.    50.25  50.5   50.75  51.    51.25  51.5   51.75  52.    52.25\n",
      "  52.5   52.75  53.    53.25  53.5   53.75  54.    54.25  54.5   54.75\n",
      "  55.    55.25  55.5   55.75  56.    56.25  56.5   56.75  57.    57.25\n",
      "  57.5   57.75  58.    58.25  58.5   58.75  59.    59.25  59.5   59.75\n",
      "  60.    60.25  60.5   60.75  61.    61.25  61.5   61.75  62.    62.25\n",
      "  62.5   62.75  63.    63.25  63.5   63.75  64.    64.25  64.5   64.75\n",
      "  65.    65.25  65.5   65.75  66.    66.25  66.5   66.75  67.    67.25\n",
      "  67.5   67.75  68.    68.25  68.5   68.75  69.    69.25  69.5   69.75\n",
      "  70.    70.25  70.5   70.75  71.    71.25  71.5   71.75  72.    72.25\n",
      "  72.5   72.75  73.    73.25  73.5   73.75  74.    74.25  74.5   74.75\n",
      "  75.    75.25  75.5   75.75  76.    76.25  76.5   76.75  77.    77.25\n",
      "  77.5   77.75  78.    78.25  78.5   78.75  79.    79.25  79.5   79.75\n",
      "  80.    80.25  80.5   80.75  81.    81.25  81.5   81.75  82.    82.25\n",
      "  82.5   82.75  83.    83.25  83.5   83.75  84.    84.25  84.5   84.75\n",
      "  85.    85.25  85.5   85.75  86.    86.25  86.5   86.75  87.    87.25\n",
      "  87.5   87.75  88.    88.25  88.5   88.75  89.    89.25  89.5   89.75\n",
      "  90.    90.25  90.5   90.75  91.    91.25  91.5   91.75  92.    92.25\n",
      "  92.5   92.75  93.    93.25  93.5   93.75  94.    94.25  94.5   94.75\n",
      "  95.    95.25  95.5   95.75  96.    96.25  96.5   96.75  97.    97.25\n",
      "  97.5   97.75  98.    98.25  98.5   98.75  99.    99.25  99.5   99.75\n",
      " 100.   100.25 100.5  100.75 101.   101.25 101.5  101.75 102.   102.25\n",
      " 102.5  102.75 103.   103.25 103.5  103.75 104.   104.25 104.5  104.75\n",
      " 105.   105.25 105.5  105.75 106.   106.25 106.5  106.75 107.   107.25\n",
      " 107.5  107.75 108.   108.25 108.5  108.75 109.   109.25 109.5  109.75\n",
      " 110.   110.25 110.5  110.75 111.   111.25 111.5  111.75 112.   112.25\n",
      " 112.5  112.75 113.   113.25 113.5  113.75 114.   114.25 114.5  114.75\n",
      " 115.   115.25 115.5  115.75 116.   116.25 116.5  116.75 117.   117.25\n",
      " 117.5  117.75 118.   118.25 118.5  118.75 119.   119.25 119.5  119.75\n",
      " 120.   120.25 120.5  120.75 121.   121.25 121.5  121.75 122.   122.25\n",
      " 122.5  122.75 123.   123.25 123.5  123.75 124.   124.25 124.5  124.75\n",
      " 125.   125.25 125.5  125.75 126.   126.25 126.5  126.75 127.   127.25\n",
      " 127.5  127.75 128.   128.25 128.5  128.75 129.   129.25 129.5  129.75\n",
      " 130.   130.25 130.5  130.75 131.   131.25 131.5  131.75 132.   132.25\n",
      " 132.5  132.75 133.   133.25 133.5  133.75 134.   134.25 134.5  134.75\n",
      " 135.   135.25 135.5  135.75 136.   136.25 136.5  136.75 137.   137.25\n",
      " 137.5  137.75 138.   138.25 138.5  138.75 139.   139.25 139.5  139.75\n",
      " 140.   140.25 140.5  140.75 141.   141.25 141.5  141.75 142.   142.25\n",
      " 142.5  142.75 143.   143.25 143.5  143.75 144.   144.25 144.5  144.75\n",
      " 145.   145.25 145.5  145.75 146.   146.25 146.5  146.75 147.   147.25\n",
      " 147.5  147.75 148.   148.25 148.5  148.75 149.   149.25 149.5  149.75\n",
      " 150.   150.25 150.5  150.75 151.   151.25 151.5  151.75 152.   152.25\n",
      " 152.5  152.75 153.   153.25 153.5  153.75 154.   154.25 154.5  154.75\n",
      " 155.   155.25 155.5  155.75 156.   156.25 156.5  156.75 157.   157.25\n",
      " 157.5  157.75 158.   158.25 158.5  158.75 159.   159.25 159.5  159.75\n",
      " 160.  ]\n"
     ]
    },
    {
     "data": {
      "image/png": "[encoded data removed]",
      "text/plain": [
       "<Figure size 720x360 with 2 Axes>"
      ]
     },
     "metadata": {
      "needs_background": "light"
     },
     "output_type": "display_data"
    }
   ],
   "source": [
    "plt.figure(figsize = [10, 5]) # larger figure size for subplots\n",
    "\n",
    "# example of somewhat too-large bin size\n",
    "plt.subplot(1, 2, 1) # 1 row, 2 cols, subplot 1\n",
    "bin_edges = np.arange(0, pokemon['speed'].max()+4, 4)\n",
    "print(bin_edges)\n",
    "plt.hist(data = pokemon, x = 'speed', bins = bin_edges)\n",
    "\n",
    "# example of somewhat too-small bin size\n",
    "plt.subplot(1, 2, 2) # 1 row, 2 cols, subplot 2\n",
    "bin_edges = np.arange(0, pokemon['speed'].max()+1/4, 1/4)\n",
    "print(bin_edges)\n",
    "\n",
    "plt.hist(data = pokemon, x = 'speed', bins = bin_edges);"
   ]
  },
  {
   "cell_type": "code",
   "execution_count": 40,
   "metadata": {},
   "outputs": [
    {
     "name": "stdout",
     "output_type": "stream",
     "text": [
      "[  0.     0.25   0.5    0.75   1.     1.25   1.5    1.75   2.     2.25\n",
      "   2.5    2.75   3.     3.25   3.5    3.75   4.     4.25   4.5    4.75\n",
      "   5.     5.25   5.5    5.75   6.     6.25   6.5    6.75   7.     7.25\n",
      "   7.5    7.75   8.     8.25   8.5    8.75   9.     9.25   9.5    9.75\n",
      "  10.    10.25  10.5   10.75  11.    11.25  11.5   11.75  12.    12.25\n",
      "  12.5   12.75  13.    13.25  13.5   13.75  14.    14.25  14.5   14.75\n",
      "  15.    15.25  15.5   15.75  16.    16.25  16.5   16.75  17.    17.25\n",
      "  17.5   17.75  18.    18.25  18.5   18.75  19.    19.25  19.5   19.75\n",
      "  20.    20.25  20.5   20.75  21.    21.25  21.5   21.75  22.    22.25\n",
      "  22.5   22.75  23.    23.25  23.5   23.75  24.    24.25  24.5   24.75\n",
      "  25.    25.25  25.5   25.75  26.    26.25  26.5   26.75  27.    27.25\n",
      "  27.5   27.75  28.    28.25  28.5   28.75  29.    29.25  29.5   29.75\n",
      "  30.    30.25  30.5   30.75  31.    31.25  31.5   31.75  32.    32.25\n",
      "  32.5   32.75  33.    33.25  33.5   33.75  34.    34.25  34.5   34.75\n",
      "  35.    35.25  35.5   35.75  36.    36.25  36.5   36.75  37.    37.25\n",
      "  37.5   37.75  38.    38.25  38.5   38.75  39.    39.25  39.5   39.75\n",
      "  40.    40.25  40.5   40.75  41.    41.25  41.5   41.75  42.    42.25\n",
      "  42.5   42.75  43.    43.25  43.5   43.75  44.    44.25  44.5   44.75\n",
      "  45.    45.25  45.5   45.75  46.    46.25  46.5   46.75  47.    47.25\n",
      "  47.5   47.75  48.    48.25  48.5   48.75  49.    49.25  49.5   49.75\n",
      "  50.    50.25  50.5   50.75  51.    51.25  51.5   51.75  52.    52.25\n",
      "  52.5   52.75  53.    53.25  53.5   53.75  54.    54.25  54.5   54.75\n",
      "  55.    55.25  55.5   55.75  56.    56.25  56.5   56.75  57.    57.25\n",
      "  57.5   57.75  58.    58.25  58.5   58.75  59.    59.25  59.5   59.75\n",
      "  60.    60.25  60.5   60.75  61.    61.25  61.5   61.75  62.    62.25\n",
      "  62.5   62.75  63.    63.25  63.5   63.75  64.    64.25  64.5   64.75\n",
      "  65.    65.25  65.5   65.75  66.    66.25  66.5   66.75  67.    67.25\n",
      "  67.5   67.75  68.    68.25  68.5   68.75  69.    69.25  69.5   69.75\n",
      "  70.    70.25  70.5   70.75  71.    71.25  71.5   71.75  72.    72.25\n",
      "  72.5   72.75  73.    73.25  73.5   73.75  74.    74.25  74.5   74.75\n",
      "  75.    75.25  75.5   75.75  76.    76.25  76.5   76.75  77.    77.25\n",
      "  77.5   77.75  78.    78.25  78.5   78.75  79.    79.25  79.5   79.75\n",
      "  80.    80.25  80.5   80.75  81.    81.25  81.5   81.75  82.    82.25\n",
      "  82.5   82.75  83.    83.25  83.5   83.75  84.    84.25  84.5   84.75\n",
      "  85.    85.25  85.5   85.75  86.    86.25  86.5   86.75  87.    87.25\n",
      "  87.5   87.75  88.    88.25  88.5   88.75  89.    89.25  89.5   89.75\n",
      "  90.    90.25  90.5   90.75  91.    91.25  91.5   91.75  92.    92.25\n",
      "  92.5   92.75  93.    93.25  93.5   93.75  94.    94.25  94.5   94.75\n",
      "  95.    95.25  95.5   95.75  96.    96.25  96.5   96.75  97.    97.25\n",
      "  97.5   97.75  98.    98.25  98.5   98.75  99.    99.25  99.5   99.75\n",
      " 100.   100.25 100.5  100.75 101.   101.25 101.5  101.75 102.   102.25\n",
      " 102.5  102.75 103.   103.25 103.5  103.75 104.   104.25 104.5  104.75\n",
      " 105.   105.25 105.5  105.75 106.   106.25 106.5  106.75 107.   107.25\n",
      " 107.5  107.75 108.   108.25 108.5  108.75 109.   109.25 109.5  109.75\n",
      " 110.   110.25 110.5  110.75 111.   111.25 111.5  111.75 112.   112.25\n",
      " 112.5  112.75 113.   113.25 113.5  113.75 114.   114.25 114.5  114.75\n",
      " 115.   115.25 115.5  115.75 116.   116.25 116.5  116.75 117.   117.25\n",
      " 117.5  117.75 118.   118.25 118.5  118.75 119.   119.25 119.5  119.75\n",
      " 120.   120.25 120.5  120.75 121.   121.25 121.5  121.75 122.   122.25\n",
      " 122.5  122.75 123.   123.25 123.5  123.75 124.   124.25 124.5  124.75\n",
      " 125.   125.25 125.5  125.75 126.   126.25 126.5  126.75 127.   127.25\n",
      " 127.5  127.75 128.   128.25 128.5  128.75 129.   129.25 129.5  129.75\n",
      " 130.   130.25 130.5  130.75 131.   131.25 131.5  131.75 132.   132.25\n",
      " 132.5  132.75 133.   133.25 133.5  133.75 134.   134.25 134.5  134.75\n",
      " 135.   135.25 135.5  135.75 136.   136.25 136.5  136.75 137.   137.25\n",
      " 137.5  137.75 138.   138.25 138.5  138.75 139.   139.25 139.5  139.75\n",
      " 140.   140.25 140.5  140.75 141.   141.25 141.5  141.75 142.   142.25\n",
      " 142.5  142.75 143.   143.25 143.5  143.75 144.   144.25 144.5  144.75\n",
      " 145.   145.25 145.5  145.75 146.   146.25 146.5  146.75 147.   147.25\n",
      " 147.5  147.75 148.   148.25 148.5  148.75 149.   149.25 149.5  149.75\n",
      " 150.   150.25 150.5  150.75 151.   151.25 151.5  151.75 152.   152.25\n",
      " 152.5  152.75 153.   153.25 153.5  153.75 154.   154.25 154.5  154.75\n",
      " 155.   155.25 155.5  155.75 156.   156.25 156.5  156.75 157.   157.25\n",
      " 157.5  157.75 158.   158.25 158.5  158.75 159.   159.25 159.5  159.75\n",
      " 160.  ]\n"
     ]
    },
    {
     "data": {
      "image/png": "[encoded data removed]",
      "text/plain": [
       "<Figure size 720x360 with 1 Axes>"
      ]
     },
     "metadata": {
      "needs_background": "light"
     },
     "output_type": "display_data"
    }
   ],
   "source": [
    "plt.figure(figsize = [10, 5]) # larger figure size for subplots\n",
    "\n",
    "# example of somewhat too-small bin size\n",
    "plt.subplot(1, 2, 2) # 1 row, 2 cols, subplot 2\n",
    "bin_edges = np.arange(0, pokemon['speed'].max()+1/4, 1/4)\n",
    "print(bin_edges)\n",
    "\n",
    "plt.hist(data = pokemon, x = 'speed', bins = bin_edges);\n"
   ]
  },
  {
   "cell_type": "markdown",
   "metadata": {},
   "source": [
    "If you don't assign Axes objects as they're created, you can retrieve the current Axes using ax = plt.gca(), or you can get a list of all Axes in a Figure fig by using axes = fig.get_axes()."
   ]
  },
  {
   "cell_type": "code",
   "execution_count": 43,
   "metadata": {},
   "outputs": [
    {
     "data": {
      "image/png": "[encoded data removed]",
      "text/plain": [
       "<Figure size 432x288 with 1 Axes>"
      ]
     },
     "metadata": {
      "needs_background": "light"
     },
     "output_type": "display_data"
    }
   ],
   "source": [
    "fig = plt.figure()\n",
    "bx = fig.add_axes([.2, .2, .775, .755])\n",
    "bx = plt.gca()"
   ]
  },
  {
   "cell_type": "code",
   "execution_count": 45,
   "metadata": {},
   "outputs": [
    {
     "data": {
      "text/plain": [
       "[<matplotlib.axes._axes.Axes at 0x1a26c4aeb8>]"
      ]
     },
     "execution_count": 45,
     "metadata": {},
     "output_type": "execute_result"
    }
   ],
   "source": [
    "axes = fig.get_axes()\n",
    "axes"
   ]
  },
  {
   "cell_type": "markdown",
   "metadata": {},
   "source": [
    "As for creating subplots, you can use fig.add_subplot() in the same way as plt.subplot() above. If you already know that you're going to be creating a bunch of subplots, you can use the plt.subplots() function:"
   ]
  },
  {
   "cell_type": "code",
   "execution_count": 46,
   "metadata": {},
   "outputs": [
    {
     "data": {
      "image/png": "[encoded data removed]",
      "text/plain": [
       "<Figure size 432x288 with 12 Axes>"
      ]
     },
     "metadata": {
      "needs_background": "light"
     },
     "output_type": "display_data"
    }
   ],
   "source": [
    "fig, axes = plt.subplots(3, 4) # grid of 3x4 subplots\n",
    "axes = axes.flatten() # reshape from 3x4 array into 12-element vector\n",
    "for i in range(12):\n",
    "    plt.sca(axes[i]) # set the current Axes\n",
    "    plt.text(0.5, 0.5, i+1) # print conventional subplot index number to middle of Axes\n"
   ]
  },
  {
   "cell_type": "code",
   "execution_count": 49,
   "metadata": {},
   "outputs": [
    {
     "data": {
      "text/plain": [
       "6"
      ]
     },
     "execution_count": 49,
     "metadata": {},
     "output_type": "execute_result"
    }
   ],
   "source": [
    "import random\n",
    "min = 1\n",
    "max = 6\n",
    "random.randint(min, max)"
   ]
  },
  {
   "cell_type": "code",
   "execution_count": null,
   "metadata": {},
   "outputs": [],
   "source": []
  }
 ],
 "metadata": {
  "kernelspec": {
   "display_name": "Python 3",
   "language": "python",
   "name": "python3"
  },
  "language_info": {
   "codemirror_mode": {
    "name": "ipython",
    "version": 3
   },
   "file_extension": ".py",
   "mimetype": "text/x-python",
   "name": "python",
   "nbconvert_exporter": "python",
   "pygments_lexer": "ipython3",
   "version": "3.7.3"
  }
 },
 "nbformat": 4,
 "nbformat_minor": 2
}
